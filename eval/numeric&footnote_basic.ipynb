{
  "nbformat": 4,
  "nbformat_minor": 0,
  "metadata": {
    "colab": {
      "provenance": []
    },
    "kernelspec": {
      "name": "python3",
      "display_name": "Python 3"
    },
    "language_info": {
      "name": "python"
    }
  },
  "cells": [
    {
      "cell_type": "code",
      "execution_count": 6,
      "metadata": {
        "id": "AU0M_InB0Qy_"
      },
      "outputs": [],
      "source": [
        "english_text = \"\"\"\n",
        "The project cost is estimated at $1,250,500.99. We expect a return of 15.5%\n",
        "within 24 months. The first phase requires an investment of 500,000 dollars.\n",
        "The temperature should not exceed -10.5 degrees.\n",
        "\"\"\"\n",
        "\n",
        "german_text = \"\"\"\n",
        "Die Projektkosten werden auf 1.250.500,99 $ geschätzt. Wir erwarten eine Rendite\n",
        "von 15,5 % innerhalb von 24 Monaten. Die erste Phase erfordert eine Investition\n",
        "von 500.000 Dollar. Die Temperatur sollte -10,5 Grad nicht überschreiten.\n",
        "\"\"\""
      ]
    },
    {
      "cell_type": "code",
      "source": [
        "english_text = \"\"\"\n",
        "The project cost is estimated at $1,250,500.99. We expect a return of 15.5%\n",
        "within 24 months. The first phase requires an investment of 500,000 dollars.\n",
        "The temperature should not exceed -10.5 degrees. There are 4 stages.\n",
        "\"\"\"\n",
        "\n",
        "german_text = \"\"\"\n",
        "Die Projektkosten werden auf 1.250.500,99 $ geschätzt. Wir erwarten eine Rendite\n",
        "von 16,5 % innerhalb von 24 Monaten. Die erste Phase erfordert eine Investition\n",
        "von 500.000 Dollar. Die Temperatur sollte -10,5 Grad nicht überschreiten.\n",
        "\"\"\""
      ],
      "metadata": {
        "id": "XZnVIfl601-x"
      },
      "execution_count": 5,
      "outputs": []
    },
    {
      "cell_type": "code",
      "source": [
        "import re\n",
        "import pandas as pd\n",
        "from decimal import Decimal, InvalidOperation\n",
        "from itertools import zip_longest\n",
        "\n",
        "def extract_and_normalize_numbers(text: str) -> list[Decimal]:\n",
        "    number_pattern = r'[-+]?\\d{1,3}(?:[.,]\\d{3})*(?:[.,]\\d+)?'\n",
        "    found_numbers = re.findall(number_pattern, text)\n",
        "\n",
        "    normalized_numbers = []\n",
        "    for num_str in found_numbers:\n",
        "        if '.' in num_str and ',' in num_str:\n",
        "            if num_str.rfind('.') > num_str.rfind(','):\n",
        "                clean_num_str = num_str.replace(',', '')\n",
        "            else:\n",
        "                clean_num_str = num_str.replace('.', '').replace(',', '.')\n",
        "        else:\n",
        "            clean_num_str = num_str.replace(',', '.')\n",
        "\n",
        "        try:\n",
        "            normalized_numbers.append(Decimal(clean_num_str))\n",
        "        except InvalidOperation:\n",
        "            print(f\"Warning: Could not convert '{num_str}' to a number. Skipping.\")\n",
        "\n",
        "    return normalized_numbers\n",
        "\n",
        "\n",
        "english_text = input(\"➡️ Enter the complete English text: \")\n",
        "german_text = input(\"➡️ Enter the complete German text:  \")\n",
        "\n",
        "english_numbers = extract_and_normalize_numbers(english_text)\n",
        "german_numbers = extract_and_normalize_numbers(german_text)\n",
        "\n",
        "comparison_data = list(zip_longest(english_numbers, german_numbers, fillvalue=None))\n",
        "df = pd.DataFrame(comparison_data, columns=['English', 'German'])\n",
        "\n",
        "def check_change(row):\n",
        "    if row['English'] is None or row['German'] is None or row['English'] != row['German']:\n",
        "        return 'Yes'\n",
        "    else:\n",
        "        return 'No'\n",
        "\n",
        "df['Change?'] = df.apply(check_change, axis=1)\n",
        "\n",
        "pd.set_option('display.max_rows', None)\n",
        "\n",
        "print(\"\\n\" + \"=\"*50)\n",
        "print(\"--- Numerical Value Comparison ---\")\n",
        "print(\"=\"*50 + \"\\n\")\n",
        "print(df.to_string(index=False))\n",
        "\n",
        "if 'Yes' in df['Change?'].values:\n",
        "    print(\"\\n Differences were found between the numerical values.\")\n",
        "else:\n",
        "    print(\"\\n All numerical values match perfectly.\")"
      ],
      "metadata": {
        "colab": {
          "base_uri": "https://localhost:8080/"
        },
        "id": "R8ii1JF038-u",
        "outputId": "1835833b-f359-4b46-c686-d92aaf80a515"
      },
      "execution_count": 9,
      "outputs": [
        {
          "output_type": "stream",
          "name": "stdout",
          "text": [
            "➡️ Enter the complete English text: The project cost is estimated at $1,250,500.99. We expect a return of 15.5% within 24 months. The first phase requires an investment of 500,000 dollars. The temperature should not exceed -10.5 degrees.\n",
            "➡️ Enter the complete German text:  Die Projektkosten werden auf 1.250.500,99 $ geschätzt. Wir erwarten eine Rendite von 15,5 % innerhalb von 24 Monaten. Die erste Phase erfordert eine Investition von 500.000 Dollar. Die Temperatur sollte -10,5 Grad nicht überschreiten.\n",
            "\n",
            "==================================================\n",
            "--- Numerical Value Comparison ---\n",
            "==================================================\n",
            "\n",
            "   English     German Change?\n",
            "1250500.99 1250500.99      No\n",
            "      15.5       15.5      No\n",
            "        24         24      No\n",
            "   500.000    500.000      No\n",
            "     -10.5      -10.5      No\n",
            "\n",
            " All numerical values match perfectly.\n"
          ]
        }
      ]
    },
    {
      "cell_type": "code",
      "source": [
        "import re\n",
        "import pandas as pd\n",
        "from decimal import Decimal, InvalidOperation\n",
        "from itertools import zip_longest\n",
        "\n",
        "def extract_and_normalize_numbers(text: str) -> list[Decimal]:\n",
        "    number_pattern = r'[-+]?\\d{1,3}(?:[.,]\\d{3})*(?:[.,]\\d+)?'\n",
        "    found_numbers = re.findall(number_pattern, text)\n",
        "\n",
        "    normalized_numbers = []\n",
        "    for num_str in found_numbers:\n",
        "        if '.' in num_str and ',' in num_str:\n",
        "            if num_str.rfind('.') > num_str.rfind(','):\n",
        "                clean_num_str = num_str.replace(',', '')\n",
        "            else:\n",
        "                clean_num_str = num_str.replace('.', '').replace(',', '.')\n",
        "        else:\n",
        "            clean_num_str = num_str.replace(',', '.')\n",
        "\n",
        "        try:\n",
        "            normalized_numbers.append(Decimal(clean_num_str))\n",
        "        except InvalidOperation:\n",
        "            print(f\"Warning: Could not convert '{num_str}' to a number. Skipping.\")\n",
        "\n",
        "    return normalized_numbers\n",
        "\n",
        "\n",
        "english_text = input(\"➡️ Enter the complete English text: \")\n",
        "german_text = input(\"➡️ Enter the complete German text:  \")\n",
        "\n",
        "english_numbers = extract_and_normalize_numbers(english_text)\n",
        "german_numbers = extract_and_normalize_numbers(german_text)\n",
        "\n",
        "comparison_data = list(zip_longest(english_numbers, german_numbers, fillvalue=None))\n",
        "df = pd.DataFrame(comparison_data, columns=['English', 'German'])\n",
        "\n",
        "def check_change(row):\n",
        "    if row['English'] is None or row['German'] is None or row['English'] != row['German']:\n",
        "        return 'Yes'\n",
        "    else:\n",
        "        return 'No'\n",
        "\n",
        "df['Change?'] = df.apply(check_change, axis=1)\n",
        "\n",
        "pd.set_option('display.max_rows', None)\n",
        "\n",
        "print(\"\\n\" + \"=\"*50)\n",
        "print(\"--- Numerical Value Comparison ---\")\n",
        "print(\"=\"*50 + \"\\n\")\n",
        "print(df.to_string(index=False))\n",
        "\n",
        "if 'Yes' in df['Change?'].values:\n",
        "    print(\"\\n Differences were found between the numerical values.\")\n",
        "else:\n",
        "    print(\"\\n All numerical values match perfectly.\")"
      ],
      "metadata": {
        "colab": {
          "base_uri": "https://localhost:8080/"
        },
        "id": "ntxba-tz1adz",
        "outputId": "b1e83e13-9ca3-45bc-ed82-da554a8b08c9"
      },
      "execution_count": 4,
      "outputs": [
        {
          "output_type": "stream",
          "name": "stdout",
          "text": [
            "➡️ Enter the complete English text: The project cost is estimated at $1,250,500.99. We expect a return of 15.5% within 24 months. The first phase requires an investment of 500,000 dollars. The temperature should not exceed -10.5 degrees. There are 4 stages.\n",
            "➡️ Enter the complete German text:  Die Projektkosten werden auf 1.250.500,99 $ geschätzt. Wir erwarten eine Rendite von 16,5 % innerhalb von 24 Monaten. Die erste Phase erfordert eine Investition von 500.000 Dollar. Die Temperatur sollte -10,5 Grad nicht überschreiten.\n",
            "\n",
            "==================================================\n",
            "--- Numerical Value Comparison ---\n",
            "==================================================\n",
            "\n",
            "   English     German Change?\n",
            "1250500.99 1250500.99      No\n",
            "      15.5       16.5     Yes\n",
            "        24         24      No\n",
            "   500.000    500.000      No\n",
            "     -10.5      -10.5      No\n",
            "         4       None     Yes\n",
            "\n",
            " Differences were found between the numerical values.\n"
          ]
        }
      ]
    },
    {
      "cell_type": "code",
      "source": [
        "\"\"\"\n",
        "\n",
        "Enter the complete English text: Research shows that hydration is crucial for health.[1] The study was conducted over a period of 5 years.²\n",
        "Enter the complete German text:  Forschung zeigt, dass Flüssigkeitszufuhr für die Gesundheit entscheidend ist.[1] Die Studie wurde über einen Zeitraum von 5 Jahren durchgeführt.²\n",
        "\n",
        "Enter the complete English text: The new policy[1] affects all departments, as outlined in the memo from August 2025. This decision follows the quarterly review¹, which highlighted a budget deficit.[2] Further details will be announced next week³.\n",
        "Enter the complete German text:  Die neue Richtlinie[1] betrifft alle Abteilungen, wie im Memo vom August 2025 dargelegt. Diese Entscheidung folgt der vierteljährlichen Überprüfung¹, die ein Budgetdefizit aufzeigte.[99] Weitere Details werden nächste Woche³ bekannt gegeben.\n",
        "\n",
        "\"\"\""
      ],
      "metadata": {
        "id": "c_aunyc030sv"
      },
      "execution_count": null,
      "outputs": []
    },
    {
      "cell_type": "code",
      "source": [
        "import re\n",
        "import pandas as pd\n",
        "from itertools import zip_longest\n",
        "\n",
        "def extract_footnotes(text: str) -> list[str]:\n",
        "    footnote_pattern = r'(\\[\\d+\\]|[\\u00B9\\u00B2\\u00B3\\u2070-\\u2079]+)'\n",
        "    found_footnotes = re.findall(footnote_pattern, text)\n",
        "    return found_footnotes\n",
        "\n",
        "english_text = input(\"Enter the complete English text: \")\n",
        "german_text = input(\"Enter the complete German text:  \")\n",
        "\n",
        "english_footnotes = extract_footnotes(english_text)\n",
        "german_footnotes = extract_footnotes(german_text)\n",
        "\n",
        "comparison_data = list(zip_longest(english_footnotes, german_footnotes, fillvalue=None))\n",
        "df = pd.DataFrame(comparison_data, columns=['English', 'German'])\n",
        "\n",
        "def check_change(row):\n",
        "    if row['English'] is None or row['German'] is None or row['English'] != row['German']:\n",
        "        return 'Yes'\n",
        "    else:\n",
        "        return 'No'\n",
        "\n",
        "df['Change?'] = df.apply(check_change, axis=1)\n",
        "\n",
        "pd.set_option('display.max_rows', None)\n",
        "\n",
        "print(\"\\n\" + \"=\"*50)\n",
        "print(\"--- Footnote Comparison ---\")\n",
        "print(\"=\"*50 + \"\\n\")\n",
        "print(df.to_string(index=False))\n",
        "\n",
        "if 'Yes' in df['Change?'].values:\n",
        "    print(\"\\n Differences were found between the footnotes.\")\n",
        "elif not df.empty:\n",
        "    print(\"\\n All found footnotes match perfectly.\")\n",
        "else:\n",
        "    print(\"\\n No footnotes were found in the provided texts.\")"
      ],
      "metadata": {
        "colab": {
          "base_uri": "https://localhost:8080/"
        },
        "id": "ksP5o2CP1-I9",
        "outputId": "aed9cc9d-385f-4958-cb2a-fbb1e396004b"
      },
      "execution_count": 7,
      "outputs": [
        {
          "output_type": "stream",
          "name": "stdout",
          "text": [
            "Enter the complete English text: Research shows that hydration is crucial for health.[1] The study was conducted over a period of 5 years.²\n",
            "Enter the complete German text:  Forschung zeigt, dass Flüssigkeitszufuhr für die Gesundheit entscheidend ist.[1] Die Studie wurde über einen Zeitraum von 5 Jahren durchgeführt.²\n",
            "\n",
            "==================================================\n",
            "--- Footnote Comparison ---\n",
            "==================================================\n",
            "\n",
            "English German Change?\n",
            "    [1]    [1]      No\n",
            "      ²      ²      No\n",
            "\n",
            " All found footnotes match perfectly.\n"
          ]
        }
      ]
    },
    {
      "cell_type": "code",
      "source": [
        "import re\n",
        "import pandas as pd\n",
        "from itertools import zip_longest\n",
        "\n",
        "def extract_footnotes(text: str) -> list[str]:\n",
        "    footnote_pattern = r'(\\[\\d+\\]|[\\u00B9\\u00B2\\u00B3\\u2070-\\u2079]+)'\n",
        "    found_footnotes = re.findall(footnote_pattern, text)\n",
        "    return found_footnotes\n",
        "\n",
        "english_text = input(\"Enter the complete English text: \")\n",
        "german_text = input(\"Enter the complete German text:  \")\n",
        "\n",
        "english_footnotes = extract_footnotes(english_text)\n",
        "german_footnotes = extract_footnotes(german_text)\n",
        "\n",
        "comparison_data = list(zip_longest(english_footnotes, german_footnotes, fillvalue=None))\n",
        "df = pd.DataFrame(comparison_data, columns=['English', 'German'])\n",
        "\n",
        "def check_change(row):\n",
        "    if row['English'] is None or row['German'] is None or row['English'] != row['German']:\n",
        "        return 'Yes'\n",
        "    else:\n",
        "        return 'No'\n",
        "\n",
        "df['Change?'] = df.apply(check_change, axis=1)\n",
        "\n",
        "pd.set_option('display.max_rows', None)\n",
        "\n",
        "print(\"\\n\" + \"=\"*50)\n",
        "print(\"--- Footnote Comparison ---\")\n",
        "print(\"=\"*50 + \"\\n\")\n",
        "print(df.to_string(index=False))\n",
        "\n",
        "if 'Yes' in df['Change?'].values:\n",
        "    print(\"\\n Differences were found between the footnotes.\")\n",
        "elif not df.empty:\n",
        "    print(\"\\n All found footnotes match perfectly.\")\n",
        "else:\n",
        "    print(\"\\n No footnotes were found in the provided texts.\")"
      ],
      "metadata": {
        "colab": {
          "base_uri": "https://localhost:8080/"
        },
        "id": "s9z5e2Mr3MfN",
        "outputId": "e5665aec-4c07-494e-ca6f-f9f3e906d9aa"
      },
      "execution_count": 8,
      "outputs": [
        {
          "output_type": "stream",
          "name": "stdout",
          "text": [
            "Enter the complete English text: The new policy[1] affects all departments, as outlined in the memo from August 2025. This decision follows the quarterly review¹, which highlighted a budget deficit.[2] Further details will be announced next week³.\n",
            "Enter the complete German text:  Die neue Richtlinie[1] betrifft alle Abteilungen, wie im Memo vom August 2025 dargelegt. Diese Entscheidung folgt der vierteljährlichen Überprüfung¹, die ein Budgetdefizit aufzeigte.[99] Weitere Details werden nächste Woche³ bekannt gegeben.\n",
            "\n",
            "==================================================\n",
            "--- Footnote Comparison ---\n",
            "==================================================\n",
            "\n",
            "English German Change?\n",
            "    [1]    [1]      No\n",
            "      ¹      ¹      No\n",
            "    [2]   [99]     Yes\n",
            "      ³      ³      No\n",
            "\n",
            " Differences were found between the footnotes.\n"
          ]
        }
      ]
    }
  ]
}